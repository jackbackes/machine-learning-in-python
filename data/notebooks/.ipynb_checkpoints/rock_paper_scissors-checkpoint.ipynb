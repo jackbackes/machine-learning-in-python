{
 "cells": [
  {
   "cell_type": "markdown",
   "metadata": {
    "collapsed": true
   },
   "source": [
    "I recalled that Benjamin Franklin, not enjoying being taken from his studies by chess, told a friend he\n",
    "would only play on one condition: that the winner would designate a penalty for the loser, of learning some topic\n",
    "\n",
    "Having lost Rock-Paper-Scissors to Epiphany, she conveyed her punishment to me: learning to make a game.\n",
    "It seemed good, then, to learn to team a computer to play rock-paper-scissors."
   ]
  },
  {
   "cell_type": "markdown",
   "metadata": {},
   "source": [
    "First it seemed good to set up a rock paper scissors game\n",
    "I did a little research for inspiration\n",
    "It seemed good to follow the instructions here: http://www.sourcecodester.com/tutorials/python/6771/how-create-rock-paper-scissors-game-python.html"
   ]
  },
  {
   "cell_type": "markdown",
   "metadata": {},
   "source": [
    "It seemed good to create an ordered list object as a lookup table for rock, paper, and scissors:\n",
    "`objects = ['rock', 'paper', 'scissors']`\n",
    "\n",
    "we would need to return an index instead of a string from player_choice\n",
    "computer would also need to return an index.\n",
    "eval_round would need to change.\n",
    "\n",
    "it seemed we might use a numpy array instead of logical statements:\n",
    "where j = computer move and i = player move.\n",
    "results = np.array([['Draw!', 'Paper covers rock. Player wins!', 'Rock smashes scissors. Computer Wins!'],\n",
    " ['Paper covers rock. Computer wins!', 'Draw!', 'Scissors cut paper. Player wins!'],\n",
    " ['Rock smashes scissors. Player wins!', 'Scissors cut paper. Computer wins!', 'Draw!']])\n",
    " \n",
    "player_payouts = np.array([[0, 1, -1], [-1, 0, 1], [1, -1, 0]])\n",
    "computer_payouts = np.array([[0, -1, 1], [1, 0, -1]"
   ]
  },
  {
   "cell_type": "code",
   "execution_count": null,
   "metadata": {
    "collapsed": true
   },
   "outputs": [],
   "source": [
    "play_objects = ['rock', 'paper', 'scissors']"
   ]
  },
  {
   "cell_type": "markdown",
   "metadata": {},
   "source": [
    "We wanted to get the user input, convert it to lower case (easier to check) then validate their choice. \n",
    "If their choice is not valid, they must re-enter until it is valid...\n",
    "\n",
    "it seemed we should use \"raw_input\" rather than input, because input evaluates as python code\n",
    "but then I remembered this was Python 3.\n",
    "\n",
    "It seemed I might make \"player_choice\" a method:\n",
    "```\n",
    "def player_choice():\n",
    "  ...;\n",
    "```"
   ]
  },
  {
   "cell_type": "code",
   "execution_count": 1,
   "metadata": {
    "collapsed": false
   },
   "outputs": [],
   "source": [
    "def player_choice():\n",
    "    player = input(\"Choose rock/paper/scissors:\")\n",
    "    player = player.lower()\n",
    "\n",
    "    while(player != \"rock\" and player != \"paper\" and player != \"scissors\" and player !=\"q\" and player !=\"quit\"):\n",
    "        print(player+\" is not a valid choice.\")\n",
    "        player = input(\"Choose rock/paper/scissors:\\n'q' or 'quit' to quit\\n\").lower()\n",
    "\n",
    "    return player;"
   ]
  },
  {
   "cell_type": "markdown",
   "metadata": {},
   "source": [
    "### Computer Choice:\n",
    "As mentioned earlier, the computer choice will be random using the random module. \n",
    "So first we generate a random number out of 0, 1 or 2 then we convert that in to a string choice..."
   ]
  },
  {
   "cell_type": "markdown",
   "metadata": {},
   "source": [
    "It seemed I should also convert my code above into some functions.\n",
    "\"Computer Choice\" could be a method.\n",
    "type ComputerChoiceType = function(): \"rock\" | \"scissors\" | \"paper\"\n",
    "```\n",
    "def computer_choice():\n",
    "  ...;\n",
    "```"
   ]
  },
  {
   "cell_type": "code",
   "execution_count": 2,
   "metadata": {
    "collapsed": false
   },
   "outputs": [],
   "source": [
    "import random\n",
    "\n",
    "def computer_choice():\n",
    "    computerInt = random.randint(0,2)\n",
    "    if (computerInt == 0):\n",
    "        computer = \"rock\";\n",
    "    elif(computerInt == 1):\n",
    "        computer = \"paper\";\n",
    "    elif(computerInt == 2):\n",
    "        computer = \"scissors\";\n",
    "    else:\n",
    "        computer = \"Huh? Error...\";\n",
    "    return computer;"
   ]
  },
  {
   "cell_type": "markdown",
   "metadata": {},
   "source": [
    "The Winner:\n",
    "Finally we must decide on the winner. \n",
    "First we check if the computer and player choices are the same, \n",
    "if they are then we output that it's a draw. \n",
    "Otherwise we check the rest of the possibilities...\n",
    "\n",
    "It also seemed we should put this into a method. Something like:\n",
    "def eval_round(player, computer):\n",
    "  ..."
   ]
  },
  {
   "cell_type": "code",
   "execution_count": 3,
   "metadata": {
    "collapsed": false
   },
   "outputs": [],
   "source": [
    "def eval_round(player, computer):\n",
    "    if (player == computer):\n",
    "        print(\"Draw!\");\n",
    "    elif (player == \"rock\"):\n",
    "        if (computer == \"paper\"):\n",
    "            print(\"Paper covers rock. Computer wins!\");\n",
    "        else:\n",
    "            print(\"Rock smashes scissors. Player wins!\");\n",
    "    elif (player == \"scissors\"):\n",
    "        if (computer == \"paper\"):\n",
    "            print(\"Scissors cut paper. Player wins!\");\n",
    "        else:\n",
    "            print(\"Rock smashes scissors. Computer wins!\");\n",
    "    elif (player == \"paper\"):\n",
    "        if (computer == \"rock\"):\n",
    "            print(\"Paper covers rock. Player wins!\");\n",
    "        elif (computer == \"scissors\"):\n",
    "            print(\"Scissors cut paper. Computer wins!\");\n",
    "    else:\n",
    "        print(\"Whoops, there was a problem. Nobody wins!\");   "
   ]
  },
  {
   "cell_type": "markdown",
   "metadata": {},
   "source": [
    "It now seemed we could refactor into a \"main\" method. Something like:\n",
    "\n",
    "def play_round():\n",
    "    player = player_choice()\n",
    "    computer = computer_choice()\n",
    "    eval_round(player, computer)\n",
    "\n",
    "I could then remove the execution code above."
   ]
  },
  {
   "cell_type": "code",
   "execution_count": 4,
   "metadata": {
    "collapsed": true
   },
   "outputs": [],
   "source": [
    "def play_round():\n",
    "    player = player_choice()\n",
    "    if(player == 'q' or player == 'quit'):\n",
    "        return 'quit'\n",
    "    computer = computer_choice()\n",
    "    eval_round(player, computer)"
   ]
  },
  {
   "cell_type": "markdown",
   "metadata": {},
   "source": [
    "Now we could play a round:\n",
    "play_round()\n",
    "\n",
    "but it seemed we might also want to play an entire game, which might include multiple rounds. something like:\n",
    "```\n",
    "def play_game():\n",
    "  play_round()\n",
    "  play_again_query = input(\"Play again?\")\n",
    "  while (play_again_query != 'n'):\n",
    "    play_round()\n",
    "    play_again_query = input(\"Play again?\")\n",
    "``` \n",
    "\n",
    "it also seemed I could return a \"result\" value from play_round that might be \"q\" or \"quit\".\n",
    "`result = play_round()`\n",
    "remove play_again_query\n",
    "```\n",
    "while (result != 'q' AND result != 'quit'):\n",
    "  result = play_round()\n",
    "```\n",
    "  \n",
    "then change the play_round() method above:\n",
    "if(player == 'q' OR player == 'quit'): return player"
   ]
  },
  {
   "cell_type": "code",
   "execution_count": null,
   "metadata": {
    "collapsed": false
   },
   "outputs": [],
   "source": [
    "def play_game():\n",
    "    print(\"Welcome to rock paper scissors. 'q' or 'quit' to quit.\")\n",
    "    result = play_round()\n",
    "    while (result != 'quit'):\n",
    "        result = play_round()\n",
    "    print('Thanks for playing!')"
   ]
  },
  {
   "cell_type": "code",
   "execution_count": null,
   "metadata": {
    "collapsed": false
   },
   "outputs": [
    {
     "name": "stdout",
     "output_type": "stream",
     "text": [
      "Choose rock/paper/scissors:rock\n",
      "Rock smashes scissors. Player wins!\n"
     ]
    }
   ],
   "source": [
    "play_game()"
   ]
  },
  {
   "cell_type": "markdown",
   "metadata": {},
   "source": [
    "# Machine Learning Roshambo"
   ]
  },
  {
   "cell_type": "markdown",
   "metadata": {},
   "source": [
    "[] Now that my rock paper scissors game was working, I could prepare the data for machine learning\n",
    "first it seemed we might do a simple linear regression based on the last move.\n",
    "so our predictor would be something like P( move | previous move ), or P( m | pm )\n",
    "pRock would be a matrix of: [P( rock | rock ), P( rock | scissors ), P( rock | paper )]\n",
    "P(A | B) = (P(B | A) * P(A))/P(B)\n",
    "so we would need a prediction of rock given a previous move of rock, and an overall average of rock being the previous move, and the overall average of rock being the current move.\n",
    "\n",
    "perhaps we could suppose a player with moves like the following:"
   ]
  },
  {
   "cell_type": "code",
   "execution_count": null,
   "metadata": {
    "collapsed": true
   },
   "outputs": [],
   "source": [
    "\n",
    "moves = ['rock', None, 'rock', 'rock', None, None, 'rock', 'rock', 'rock', None]"
   ]
  },
  {
   "cell_type": "markdown",
   "metadata": {},
   "source": [
    "Bayes isn't very useful as \"probabily of A given B.\" but more useful if we take a \"diachronic\" approach\n",
    " https://docs.google.com/presentation/d/1BfuL43pXc3qEV16EZYfPlzdDWUmQblcDJa4pnIAhIXw/embed?hl=en&size=s&slide=id.p\n",
    " P(H) vs P(H|D)\n",
    "\n",
    " it seemed like \"H\" would be the natural pattern: 1/3, 1/3, 1/3\n",
    " does H hold given data?\n",
    " then we weight H vs data. that seemed to match the idea of having a non-zero node in a neural network.\n",
    " P(H|D) = P(D|H) * P(H) / P(D)\n",
    "\n",
    " this seemed to be useful for understanding Bayes: https://github.com/AllenDowney/BayesMadeSimple/blob/master/workshop01.ipynb\n",
    "\n",
    "\n",
    "\n",
    "\n",
    "\n",
    " it seemed good to do a little research\n",
    " this seemed like a good place to start: https://www.quora.com/What-is-the-best-machine-learning-algorithm-for-learning-to-crush-human-opponents-in-rock-paper-scissors\n",
    " which led me to here: http://www.eecs.harvard.edu/~gal/gtdt04.pdf\n",
    " it appeared we might abstract this as a \"network of influence diagram\", or NID\n",
    "\n",
    " NID: (chance)   [decision]   <value>\n",
    "\n",
    " (my move history)       => [opponent's prev move] => <outcome of previous game> => (opponent's next move) => [my next move] \n",
    " (opponent move history) => [my prev move]         => \n",
    "\n",
    " \"Suppose there exists a predictor P that depends on prior reasoning.\"\n",
    " output a best-response strategy for each node, given his beliefs"
   ]
  }
 ],
 "metadata": {
  "anaconda-cloud": {},
  "kernelspec": {
   "display_name": "Python [conda root]",
   "language": "python",
   "name": "conda-root-py"
  },
  "language_info": {
   "codemirror_mode": {
    "name": "ipython",
    "version": 3
   },
   "file_extension": ".py",
   "mimetype": "text/x-python",
   "name": "python",
   "nbconvert_exporter": "python",
   "pygments_lexer": "ipython3",
   "version": "3.5.2"
  }
 },
 "nbformat": 4,
 "nbformat_minor": 1
}
